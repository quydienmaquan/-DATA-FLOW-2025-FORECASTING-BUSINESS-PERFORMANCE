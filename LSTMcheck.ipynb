{
 "cells": [
  {
   "cell_type": "code",
   "execution_count": 18,
   "metadata": {},
   "outputs": [],
   "source": [
    "import numpy as np\n",
    "import pandas as pd\n",
    "import optuna\n",
    "import tensorflow as tf\n",
    "from tensorflow.keras.models import Sequential\n",
    "from tensorflow.keras.layers import LSTM, Dense, Dropout\n",
    "from tensorflow.keras.callbacks import EarlyStopping\n",
    "from sklearn.preprocessing import MinMaxScaler\n",
    "from sklearn.metrics import mean_squared_error, mean_absolute_percentage_error, r2_score\n",
    "from statsmodels.tsa.stattools import adfuller\n",
    "import matplotlib.pyplot as plt"
   ]
  },
  {
   "cell_type": "code",
   "execution_count": 19,
   "metadata": {},
   "outputs": [],
   "source": [
    "# Load data\n",
    "train_df = pd.read_csv(r\"D:\\Du An\\Data FLow\\v1\\data\\test.csv\")\n",
    "test_df = pd.read_csv(r\"D:\\Du An\\Data FLow\\v1\\data\\test.csv\")"
   ]
  },
  {
   "cell_type": "code",
   "execution_count": 20,
   "metadata": {},
   "outputs": [],
   "source": [
    "# 2. Xử lý dữ liệu\n",
    "train_df.dropna(subset=['Revenue', 'Units'], inplace=True)\n",
    "test_df.dropna(subset=['Revenue', 'Units'], inplace=True)\n",
    "train_df['Date'] = pd.to_datetime(train_df['Date'])\n",
    "test_df['Date'] = pd.to_datetime(test_df['Date'])\n",
    "train_df.sort_values(by='Date', inplace=True)\n",
    "test_df.sort_values(by='Date', inplace=True)"
   ]
  },
  {
   "cell_type": "code",
   "execution_count": 21,
   "metadata": {},
   "outputs": [],
   "source": [
    "# 3. Kiểm tra tính dừng bằng Dickey-Fuller test\n",
    "def check_stationarity(series):\n",
    "    result = adfuller(series.dropna())\n",
    "    return result[1] < 0.05  # True nếu dữ liệu dừng\n",
    "\n",
    "if not check_stationarity(train_df['Revenue']):\n",
    "    train_df['Revenue'] = train_df['Revenue'].diff().dropna()\n",
    "if not check_stationarity(train_df['Units']):\n",
    "    train_df['Units'] = train_df['Units'].diff().dropna()\n"
   ]
  },
  {
   "cell_type": "code",
   "execution_count": 22,
   "metadata": {},
   "outputs": [],
   "source": [
    "# Normalize data\n",
    "scaler = MinMaxScaler()\n",
    "scaled_train = scaler.fit_transform(train_df[['Revenue', 'Units']])\n",
    "scaled_test = scaler.transform(test_df[['Revenue', 'Units']])"
   ]
  },
  {
   "cell_type": "code",
   "execution_count": 23,
   "metadata": {},
   "outputs": [],
   "source": [
    "# Convert to supervised learning\n",
    "sequence_length = 30  # 30 ngày trước để dự đoán\n",
    "\n",
    "def create_sequences(data, sequence_length):\n",
    "    X, y = [], []\n",
    "    for i in range(len(data) - sequence_length):\n",
    "        X.append(data[i:i+sequence_length])\n",
    "        y.append(data[i+sequence_length])\n",
    "    return np.array(X), np.array(y)\n",
    "\n",
    "X_train, y_train = create_sequences(scaled_train, sequence_length)\n",
    "X_test, y_test = create_sequences(scaled_test, sequence_length)"
   ]
  },
  {
   "cell_type": "code",
   "execution_count": 24,
   "metadata": {},
   "outputs": [],
   "source": [
    "# Define LSTM model\n",
    "def build_lstm_model():\n",
    "    model = Sequential([\n",
    "        LSTM(50, return_sequences=True, input_shape=(X_train.shape[1], X_train.shape[2])),\n",
    "        Dropout(0.2),\n",
    "        LSTM(50, return_sequences=False),\n",
    "        Dropout(0.2),\n",
    "        Dense(2)  # 2 đầu ra: Revenue, Units\n",
    "    ])\n",
    "    model.compile(optimizer=Adam(learning_rate=0.001), loss='mse')\n",
    "    return model"
   ]
  },
  {
   "cell_type": "code",
   "execution_count": 25,
   "metadata": {},
   "outputs": [],
   "source": [
    "# Early stopping\n",
    "early_stopping = EarlyStopping(monitor='val_loss', patience=10, restore_best_weights=True)\n"
   ]
  },
  {
   "cell_type": "code",
   "execution_count": 26,
   "metadata": {},
   "outputs": [
    {
     "name": "stderr",
     "output_type": "stream",
     "text": [
      "c:\\Users\\ADMIN\\anaconda3\\Lib\\site-packages\\keras\\src\\layers\\rnn\\rnn.py:200: UserWarning: Do not pass an `input_shape`/`input_dim` argument to a layer. When using Sequential models, prefer using an `Input(shape)` object as the first layer in the model instead.\n",
      "  super().__init__(**kwargs)\n"
     ]
    },
    {
     "name": "stdout",
     "output_type": "stream",
     "text": [
      "Epoch 1/100\n",
      "\u001b[1m2332/2332\u001b[0m \u001b[32m━━━━━━━━━━━━━━━━━━━━\u001b[0m\u001b[37m\u001b[0m \u001b[1m73s\u001b[0m 29ms/step - loss: 2.1867e-04 - val_loss: 2.1841e-04\n",
      "Epoch 2/100\n",
      "\u001b[1m2332/2332\u001b[0m \u001b[32m━━━━━━━━━━━━━━━━━━━━\u001b[0m\u001b[37m\u001b[0m \u001b[1m83s\u001b[0m 36ms/step - loss: 2.0198e-04 - val_loss: 2.1817e-04\n",
      "Epoch 3/100\n",
      "\u001b[1m2332/2332\u001b[0m \u001b[32m━━━━━━━━━━━━━━━━━━━━\u001b[0m\u001b[37m\u001b[0m \u001b[1m115s\u001b[0m 49ms/step - loss: 2.1979e-04 - val_loss: 2.1953e-04\n",
      "Epoch 4/100\n",
      "\u001b[1m2332/2332\u001b[0m \u001b[32m━━━━━━━━━━━━━━━━━━━━\u001b[0m\u001b[37m\u001b[0m \u001b[1m135s\u001b[0m 58ms/step - loss: 2.0681e-04 - val_loss: 2.2068e-04\n",
      "Epoch 5/100\n",
      "\u001b[1m2332/2332\u001b[0m \u001b[32m━━━━━━━━━━━━━━━━━━━━\u001b[0m\u001b[37m\u001b[0m \u001b[1m132s\u001b[0m 56ms/step - loss: 2.0181e-04 - val_loss: 2.1829e-04\n",
      "Epoch 6/100\n",
      "\u001b[1m2332/2332\u001b[0m \u001b[32m━━━━━━━━━━━━━━━━━━━━\u001b[0m\u001b[37m\u001b[0m \u001b[1m95s\u001b[0m 41ms/step - loss: 2.4092e-04 - val_loss: 2.1799e-04\n",
      "Epoch 7/100\n",
      "\u001b[1m2332/2332\u001b[0m \u001b[32m━━━━━━━━━━━━━━━━━━━━\u001b[0m\u001b[37m\u001b[0m \u001b[1m82s\u001b[0m 35ms/step - loss: 2.1055e-04 - val_loss: 2.2006e-04\n",
      "Epoch 8/100\n",
      "\u001b[1m2332/2332\u001b[0m \u001b[32m━━━━━━━━━━━━━━━━━━━━\u001b[0m\u001b[37m\u001b[0m \u001b[1m73s\u001b[0m 31ms/step - loss: 1.9396e-04 - val_loss: 2.1869e-04\n",
      "Epoch 9/100\n",
      "\u001b[1m2332/2332\u001b[0m \u001b[32m━━━━━━━━━━━━━━━━━━━━\u001b[0m\u001b[37m\u001b[0m \u001b[1m66s\u001b[0m 28ms/step - loss: 2.2489e-04 - val_loss: 2.1759e-04\n",
      "Epoch 10/100\n",
      "\u001b[1m2332/2332\u001b[0m \u001b[32m━━━━━━━━━━━━━━━━━━━━\u001b[0m\u001b[37m\u001b[0m \u001b[1m66s\u001b[0m 28ms/step - loss: 2.4480e-04 - val_loss: 2.1789e-04\n",
      "Epoch 11/100\n",
      "\u001b[1m2332/2332\u001b[0m \u001b[32m━━━━━━━━━━━━━━━━━━━━\u001b[0m\u001b[37m\u001b[0m \u001b[1m54s\u001b[0m 23ms/step - loss: 1.9698e-04 - val_loss: 2.1957e-04\n",
      "Epoch 12/100\n",
      "\u001b[1m2332/2332\u001b[0m \u001b[32m━━━━━━━━━━━━━━━━━━━━\u001b[0m\u001b[37m\u001b[0m \u001b[1m53s\u001b[0m 23ms/step - loss: 2.2986e-04 - val_loss: 2.1713e-04\n",
      "Epoch 13/100\n",
      "\u001b[1m2332/2332\u001b[0m \u001b[32m━━━━━━━━━━━━━━━━━━━━\u001b[0m\u001b[37m\u001b[0m \u001b[1m53s\u001b[0m 23ms/step - loss: 2.1495e-04 - val_loss: 2.2025e-04\n",
      "Epoch 14/100\n",
      "\u001b[1m2332/2332\u001b[0m \u001b[32m━━━━━━━━━━━━━━━━━━━━\u001b[0m\u001b[37m\u001b[0m \u001b[1m65s\u001b[0m 28ms/step - loss: 2.0828e-04 - val_loss: 2.1801e-04\n",
      "Epoch 15/100\n",
      "\u001b[1m2332/2332\u001b[0m \u001b[32m━━━━━━━━━━━━━━━━━━━━\u001b[0m\u001b[37m\u001b[0m \u001b[1m58s\u001b[0m 25ms/step - loss: 2.0979e-04 - val_loss: 2.1747e-04\n",
      "Epoch 16/100\n",
      "\u001b[1m2332/2332\u001b[0m \u001b[32m━━━━━━━━━━━━━━━━━━━━\u001b[0m\u001b[37m\u001b[0m \u001b[1m52s\u001b[0m 22ms/step - loss: 2.2732e-04 - val_loss: 2.1796e-04\n",
      "Epoch 17/100\n",
      "\u001b[1m2332/2332\u001b[0m \u001b[32m━━━━━━━━━━━━━━━━━━━━\u001b[0m\u001b[37m\u001b[0m \u001b[1m53s\u001b[0m 23ms/step - loss: 2.3866e-04 - val_loss: 2.1904e-04\n",
      "Epoch 18/100\n",
      "\u001b[1m2332/2332\u001b[0m \u001b[32m━━━━━━━━━━━━━━━━━━━━\u001b[0m\u001b[37m\u001b[0m \u001b[1m59s\u001b[0m 25ms/step - loss: 2.3183e-04 - val_loss: 2.1733e-04\n",
      "Epoch 19/100\n",
      "\u001b[1m2332/2332\u001b[0m \u001b[32m━━━━━━━━━━━━━━━━━━━━\u001b[0m\u001b[37m\u001b[0m \u001b[1m58s\u001b[0m 25ms/step - loss: 2.0214e-04 - val_loss: 2.1981e-04\n",
      "Epoch 20/100\n",
      "\u001b[1m2332/2332\u001b[0m \u001b[32m━━━━━━━━━━━━━━━━━━━━\u001b[0m\u001b[37m\u001b[0m \u001b[1m55s\u001b[0m 24ms/step - loss: 2.3467e-04 - val_loss: 2.1921e-04\n",
      "Epoch 21/100\n",
      "\u001b[1m2332/2332\u001b[0m \u001b[32m━━━━━━━━━━━━━━━━━━━━\u001b[0m\u001b[37m\u001b[0m \u001b[1m57s\u001b[0m 25ms/step - loss: 1.8924e-04 - val_loss: 2.1750e-04\n",
      "Epoch 22/100\n",
      "\u001b[1m2332/2332\u001b[0m \u001b[32m━━━━━━━━━━━━━━━━━━━━\u001b[0m\u001b[37m\u001b[0m \u001b[1m70s\u001b[0m 30ms/step - loss: 2.1262e-04 - val_loss: 2.1731e-04\n"
     ]
    }
   ],
   "source": [
    "# Train model\n",
    "model = build_lstm_model()\n",
    "history = model.fit(X_train, y_train, validation_data=(X_test, y_test), epochs=100, batch_size=32, callbacks=[early_stopping])\n"
   ]
  },
  {
   "cell_type": "code",
   "execution_count": 27,
   "metadata": {},
   "outputs": [
    {
     "name": "stdout",
     "output_type": "stream",
     "text": [
      "\u001b[1m2332/2332\u001b[0m \u001b[32m━━━━━━━━━━━━━━━━━━━━\u001b[0m\u001b[37m\u001b[0m \u001b[1m14s\u001b[0m 6ms/step\n"
     ]
    }
   ],
   "source": [
    "# Predictions\n",
    "y_pred = model.predict(X_test)\n",
    "y_test_inv = scaler.inverse_transform(y_test)\n",
    "y_pred_inv = scaler.inverse_transform(y_pred)\n"
   ]
  },
  {
   "cell_type": "code",
   "execution_count": 28,
   "metadata": {},
   "outputs": [
    {
     "name": "stdout",
     "output_type": "stream",
     "text": [
      "RMSE: 2897.2308427918633\n",
      "MAPE: 62.4695512237941%\n",
      "R²: 0.004061204764421178\n"
     ]
    },
    {
     "name": "stderr",
     "output_type": "stream",
     "text": [
      "c:\\Users\\ADMIN\\anaconda3\\Lib\\site-packages\\sklearn\\metrics\\_regression.py:483: FutureWarning: 'squared' is deprecated in version 1.4 and will be removed in 1.6. To calculate the root mean squared error, use the function'root_mean_squared_error'.\n",
      "  warnings.warn(\n"
     ]
    }
   ],
   "source": [
    "# Evaluation\n",
    "rmse = mean_squared_error(y_test_inv, y_pred_inv, squared=False)\n",
    "mape = np.mean(np.abs((y_test_inv - y_pred_inv) / y_test_inv)) * 100\n",
    "r2 = r2_score(y_test_inv, y_pred_inv)\n",
    "\n",
    "print(f\"RMSE: {rmse}\")\n",
    "print(f\"MAPE: {mape}%\")\n",
    "print(f\"R²: {r2}\")"
   ]
  }
 ],
 "metadata": {
  "kernelspec": {
   "display_name": "base",
   "language": "python",
   "name": "python3"
  },
  "language_info": {
   "codemirror_mode": {
    "name": "ipython",
    "version": 3
   },
   "file_extension": ".py",
   "mimetype": "text/x-python",
   "name": "python",
   "nbconvert_exporter": "python",
   "pygments_lexer": "ipython3",
   "version": "3.12.4"
  }
 },
 "nbformat": 4,
 "nbformat_minor": 2
}
